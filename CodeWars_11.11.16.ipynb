{
 "cells": [
  {
   "cell_type": "markdown",
   "metadata": {
    "collapsed": false
   },
   "source": [
    "# DNA"
   ]
  },
  {
   "cell_type": "code",
   "execution_count": 1,
   "metadata": {
    "collapsed": false
   },
   "outputs": [
    {
     "name": "stdout",
     "output_type": "stream",
     "text": [
      "TAGC\n"
     ]
    }
   ],
   "source": [
    "dna = 'ATCG'\n",
    "def DNA_strand(dna):\n",
    "    dna = dna.replace('A', 't').replace('C', 'g').replace('G','c').replace('T','a')\n",
    "    return dna.upper()\n",
    "print DNA_strand(dna)"
   ]
  },
  {
   "cell_type": "code",
   "execution_count": 21,
   "metadata": {
    "collapsed": false
   },
   "outputs": [
    {
     "name": "stdout",
     "output_type": "stream",
     "text": [
      "TAGC\n"
     ]
    }
   ],
   "source": [
    "dna = 'ATCG'\n",
    "def DNA_strand(dna):\n",
    "    dnadict = {'A':'T', 'C':'G', 'G':'C', 'T':'A'}\n",
    "    return ''.join([dnadict[cnt] for cnt in dna])\n",
    "    #for cnt in dna:\n",
    "    #    print dnadict[cnt]\n",
    "print DNA_strand(dna)"
   ]
  },
  {
   "cell_type": "markdown",
   "metadata": {
    "collapsed": true
   },
   "source": [
    "# Even or Odd: \n",
    "Create a function that takes an integer as an argument and returns \"Even\" for even numbers or \"Odd\" for odd numbers."
   ]
  },
  {
   "cell_type": "code",
   "execution_count": 5,
   "metadata": {
    "collapsed": false
   },
   "outputs": [
    {
     "data": {
      "text/plain": [
       "'Odd'"
      ]
     },
     "execution_count": 5,
     "metadata": {},
     "output_type": "execute_result"
    }
   ],
   "source": [
    "def even_or_odd(number):\n",
    "    if number%2 == 0:\n",
    "        return \"Even\"\n",
    "    elif number%2 != 0:\n",
    "        return \"Odd\"\n",
    "\n",
    "even_or_odd(7)"
   ]
  },
  {
   "cell_type": "code",
   "execution_count": 7,
   "metadata": {
    "collapsed": false
   },
   "outputs": [
    {
     "data": {
      "text/plain": [
       "'Even'"
      ]
     },
     "execution_count": 7,
     "metadata": {},
     "output_type": "execute_result"
    }
   ],
   "source": [
    "def even_or_odd(number):\n",
    "    return 'Even' if number%2 == 0 else 'Odd'\n",
    "\n",
    "even_or_odd(0)"
   ]
  },
  {
   "cell_type": "markdown",
   "metadata": {},
   "source": [
    "# Find the next perfect square! \n",
    "\n",
    "You might know some pretty large perfect squares. But what about the NEXT one?\n",
    "Complete the findNextSquare method that finds the next integral perfect square after the one passed as a parameter. Recall that an integral perfect square is an integer n such that sqrt(n) is also an integer.\n",
    "If the parameter is itself not a perfect square, than -1 should be returned. You may assume the parameter is positive."
   ]
  },
  {
   "cell_type": "code",
   "execution_count": 43,
   "metadata": {
    "collapsed": false
   },
   "outputs": [
    {
     "data": {
      "text/plain": [
       "144.0"
      ]
     },
     "execution_count": 43,
     "metadata": {},
     "output_type": "execute_result"
    }
   ],
   "source": [
    "def find_next_square(sq):\n",
    "    # Return the next square if sq is a square, -1 otherwise\n",
    "    try:\n",
    "        if sq%(sq**(0.5)) == 0:\n",
    "            #print \"true\", sq**(.50)\n",
    "            sq_new = (sq**(0.5) + 1)**2\n",
    "            return sq_new\n",
    "        else:\n",
    "            return -1\n",
    "    except 'ZeroDivisionError: float modulo':\n",
    "        pass\n",
    "\n",
    "find_next_square(121)"
   ]
  },
  {
   "cell_type": "code",
   "execution_count": 48,
   "metadata": {
    "collapsed": false
   },
   "outputs": [
    {
     "data": {
      "text/plain": [
       "169.0"
      ]
     },
     "execution_count": 48,
     "metadata": {},
     "output_type": "execute_result"
    }
   ],
   "source": [
    "def find_next_square(sq):\n",
    "    root = sq**(0.5)\n",
    "    if root.is_integer():\n",
    "        return (root+1)**2\n",
    "    return -1\n",
    "find_next_square(144)"
   ]
  },
  {
   "cell_type": "code",
   "execution_count": 67,
   "metadata": {
    "collapsed": false
   },
   "outputs": [
    {
     "name": "stdout",
     "output_type": "stream",
     "text": [
      "11.0\n"
     ]
    },
    {
     "data": {
      "text/plain": [
       "144.0"
      ]
     },
     "execution_count": 67,
     "metadata": {},
     "output_type": "execute_result"
    }
   ],
   "source": [
    "def find_next_square(sq):\n",
    "    x = sq**(0.5)\n",
    "    print x\n",
    "    return -1 if x%1 else (x+1)**2 \n",
    "find_next_square(121)"
   ]
  },
  {
   "cell_type": "code",
   "execution_count": 71,
   "metadata": {
    "collapsed": false
   },
   "outputs": [
    {
     "data": {
      "text/plain": [
       "-1"
      ]
     },
     "execution_count": 71,
     "metadata": {},
     "output_type": "execute_result"
    }
   ],
   "source": [
    "import math\n",
    "def find_next_square(sq):\n",
    "    x = (float(math.sqrt(sq)))\n",
    "    if x%1 == 0:\n",
    "        return pow(int(x)+1,2)\n",
    "    return -1\n",
    "find_next_square(122)"
   ]
  },
  {
   "cell_type": "markdown",
   "metadata": {},
   "source": [
    "# Growth of a Population\n",
    "In a small town the population is p0 = 1000 at the beginning of a year. The population regularly increases by 2 percent per year and moreover 50 new inhabitants per year come to live in the town. How many years does the town need to see its population greater or equal to p = 1200 inhabitants?"
   ]
  },
  {
   "cell_type": "code",
   "execution_count": 101,
   "metadata": {
    "collapsed": false
   },
   "outputs": [
    {
     "data": {
      "text/plain": [
       "15"
      ]
     },
     "execution_count": 101,
     "metadata": {},
     "output_type": "execute_result"
    }
   ],
   "source": [
    "def nb_year(p0, percent, aug, p):\n",
    "    count = 0\n",
    "    while p0 < p:\n",
    "        p0 += (p0 * percent/100.0) + aug\n",
    "        count += 1\n",
    "    return count\n",
    "\n",
    "nb_year(1500, 5, 100, 5000)"
   ]
  },
  {
   "cell_type": "markdown",
   "metadata": {},
   "source": [
    "# Find the odd int\n",
    "Given an array, find the int that appears an odd number of times.\n",
    "There will always be only one integer that appears an odd number of times."
   ]
  },
  {
   "cell_type": "markdown",
   "metadata": {},
   "source": [
    "# Sum without highest and lowest number\n",
    "Sum all the numbers of the array except the highest and the lowest element (the value, not the index!).\n",
    "(The highest/lowest element is respectively only one element at each edge, even if there are more than one with the same value!)"
   ]
  },
  {
   "cell_type": "code",
   "execution_count": 165,
   "metadata": {
    "collapsed": false
   },
   "outputs": [
    {
     "data": {
      "text/plain": [
       "0"
      ]
     },
     "execution_count": 165,
     "metadata": {},
     "output_type": "execute_result"
    }
   ],
   "source": [
    "def sum_array(arr):\n",
    "    if arr == None or len(arr) < 3:\n",
    "        return 0\n",
    "    else:\n",
    "        arr.remove(max(arr))\n",
    "        arr.remove(min(arr))\n",
    "        return sum(arr)\n",
    "sum_array([1,2])"
   ]
  },
  {
   "cell_type": "code",
   "execution_count": 166,
   "metadata": {
    "collapsed": false
   },
   "outputs": [
    {
     "data": {
      "text/plain": [
       "2"
      ]
     },
     "execution_count": 166,
     "metadata": {},
     "output_type": "execute_result"
    }
   ],
   "source": [
    "def sum_array(arr):\n",
    "    if arr == None or len(arr) < 3:\n",
    "        return 0\n",
    "    return sum(arr) - max(arr) - min(arr)\n",
    "sum_array([1,2,10])"
   ]
  },
  {
   "cell_type": "code",
   "execution_count": 172,
   "metadata": {
    "collapsed": false
   },
   "outputs": [
    {
     "data": {
      "text/plain": [
       "2"
      ]
     },
     "execution_count": 172,
     "metadata": {},
     "output_type": "execute_result"
    }
   ],
   "source": [
    "def sum_array(arr):\n",
    "    return 0 if arr == None else sum(sorted(arr[1:-1]))\n",
    "sum_array([1,2,10])"
   ]
  },
  {
   "cell_type": "code",
   "execution_count": 184,
   "metadata": {
    "collapsed": false
   },
   "outputs": [
    {
     "data": {
      "text/plain": [
       "12"
      ]
     },
     "execution_count": 184,
     "metadata": {},
     "output_type": "execute_result"
    }
   ],
   "source": [
    "def sum_array(arr):\n",
    "    if arr is None or len(arr) < 2:\n",
    "        return 0\n",
    "    mi, ma, s = arr[0], arr[0], 0\n",
    "    for x in arr:\n",
    "        if x > ma:\n",
    "            ma = x\n",
    "        elif x < mi:\n",
    "            mi = x\n",
    "        s += x\n",
    "    return s - mi - ma\n",
    "sum_array([11,1,2,10])"
   ]
  },
  {
   "cell_type": "markdown",
   "metadata": {},
   "source": [
    "# Vowel Count:\n",
    "Return the number (count) of vowels in the given string.\n",
    "We will consider a, e, i, o, and u as vowels for this Kata."
   ]
  },
  {
   "cell_type": "code",
   "execution_count": 201,
   "metadata": {
    "collapsed": false
   },
   "outputs": [
    {
     "data": {
      "text/plain": [
       "5"
      ]
     },
     "execution_count": 201,
     "metadata": {},
     "output_type": "execute_result"
    }
   ],
   "source": [
    "def getCount(inputStr):\n",
    "    num_vowels = 0\n",
    "    for char in inputStr:\n",
    "        if char in \"aeiou\":\n",
    "            num_vowels += 1\n",
    "    return num_vowels\n",
    "getCount(\"abracadabra\")"
   ]
  },
  {
   "cell_type": "code",
   "execution_count": null,
   "metadata": {
    "collapsed": true
   },
   "outputs": [],
   "source": [
    "def getCount(inputStr):\n",
    "    return sum(char in 'aeiou' for char in inputStr)\n",
    "getCount(\"abracadabra\")"
   ]
  },
  {
   "cell_type": "markdown",
   "metadata": {},
   "source": [
    "# Double Char\n",
    "Given a string, you have to return a string in which each character (case-sensitive) is repeated once."
   ]
  },
  {
   "cell_type": "code",
   "execution_count": 19,
   "metadata": {
    "collapsed": false
   },
   "outputs": [
    {
     "data": {
      "text/plain": [
       "'HHeelllloo  WWoorrlldd'"
      ]
     },
     "execution_count": 19,
     "metadata": {},
     "output_type": "execute_result"
    }
   ],
   "source": [
    "def double_char(s):\n",
    "    first = ''\n",
    "    for word in s:\n",
    "        for char in word:\n",
    "            first += first.join(char)\n",
    "            first += first.join(char)\n",
    "    return first\n",
    "double_char(\"Hello World\")"
   ]
  },
  {
   "cell_type": "code",
   "execution_count": 12,
   "metadata": {
    "collapsed": false
   },
   "outputs": [
    {
     "data": {
      "text/plain": [
       "'HHeelllloo  WWoorrlldd'"
      ]
     },
     "execution_count": 12,
     "metadata": {},
     "output_type": "execute_result"
    }
   ],
   "source": [
    "def double_char(s):\n",
    "    double = ''\n",
    "    for c in s:\n",
    "        double += ''.join(c*2)\n",
    "    return double\n",
    "double_char(\"Hello World\")"
   ]
  },
  {
   "cell_type": "code",
   "execution_count": 21,
   "metadata": {
    "collapsed": false
   },
   "outputs": [
    {
     "data": {
      "text/plain": [
       "'HHeelllloo  WWoorrlldd'"
      ]
     },
     "execution_count": 21,
     "metadata": {},
     "output_type": "execute_result"
    }
   ],
   "source": [
    "def double_char(s):\n",
    "    return ''.join(c*2 for c in s)\n",
    "double_char(\"Hello World\")"
   ]
  },
  {
   "cell_type": "markdown",
   "metadata": {
    "collapsed": true
   },
   "source": [
    "# Printer Errors\n",
    "In a factory a printer prints labels for boxes. For one kind of boxes the printer has to use colors which, for the sake of simplicity, are named with letters from a to m.\n",
    "\n",
    "The colors used by the printer are recorded in a control string. For example a \"good\" control string would be aaabbbbhaijjjm meaning that the printer used three times color a, four times color b, then one time color a...\n",
    "\n",
    "Sometimes there are problems: lack of colors, technical malfunction and a \"bad\" control string is produced e.g. aaaxbbbbyyhwawiwjjjwwm.\n",
    "\n",
    "You have to write a function printer_error which given a string will output the error rate of the printer as a string representing a rational whose numerator is the number of errors and the denominator the length of the control string. Don't reduce this fraction to a simpler expression.\n",
    "\n",
    "The string has a length greater or equal to one and contains only letters from ato z."
   ]
  },
  {
   "cell_type": "code",
   "execution_count": 199,
   "metadata": {
    "collapsed": false
   },
   "outputs": [
    {
     "data": {
      "text/plain": [
       "'2/16'"
      ]
     },
     "execution_count": 199,
     "metadata": {},
     "output_type": "execute_result"
    }
   ],
   "source": [
    "from fractions import Fraction\n",
    "def printer_error(s):\n",
    "    fraction = ''\n",
    "    num = 0\n",
    "    den = len(s)\n",
    "    for char in s:\n",
    "        if char not in 'abcdefghijklm':\n",
    "            num += len(char)\n",
    "    #f = Fraction(num,den)\n",
    "    den = str(den)\n",
    "    num = str(num)\n",
    "    fraction = ''.join(num)\n",
    "    fraction += ''.join('/')\n",
    "    fraction += ''.join(den)\n",
    "    return fraction\n",
    "            \n",
    "printer_error('aaabbbbhaijjjmxx')"
   ]
  },
  {
   "cell_type": "code",
   "execution_count": 204,
   "metadata": {
    "collapsed": false
   },
   "outputs": [
    {
     "data": {
      "text/plain": [
       "'2/16'"
      ]
     },
     "execution_count": 204,
     "metadata": {},
     "output_type": "execute_result"
    }
   ],
   "source": [
    "def printer_error(s):\n",
    "    return \"{}/{}\".format(len([char for char in s if char not in 'abcdefghijklm']), len(s))\n",
    "printer_error('aaabbbbhaijjjmxx')"
   ]
  },
  {
   "cell_type": "markdown",
   "metadata": {},
   "source": [
    "# Format a string of names like 'Bart, Lisa & Maggie'.\n",
    "Given: an array containing hashes of names\n",
    "\n",
    "Return: a string formatted as a list of names separated by commas except for the last two names, which should be separated by an ampersand."
   ]
  },
  {
   "cell_type": "code",
   "execution_count": 352,
   "metadata": {
    "collapsed": false
   },
   "outputs": [
    {
     "data": {
      "text/plain": [
       "'Bart, Lisa & Maggie'"
      ]
     },
     "execution_count": 352,
     "metadata": {},
     "output_type": "execute_result"
    }
   ],
   "source": [
    "def namelist(names):\n",
    "    new_list = ''\n",
    "    for i in range(len(names)-2):\n",
    "        new_list += ''.join((names[i]['name'], ', '))\n",
    "    for i in range(len(names))[-2:-1]: \n",
    "        new_list += ''.join((names[i]['name'],' & '))\n",
    "    for i in range(len(names))[-1:]:\n",
    "        new_list += ''.join((names[i]['name']))\n",
    "    return new_list\n",
    "namelist([ {'name': 'Bart'}, {'name': 'Lisa'}, {'name': 'Maggie'} ])"
   ]
  },
  {
   "cell_type": "code",
   "execution_count": 348,
   "metadata": {
    "collapsed": false
   },
   "outputs": [
    {
     "data": {
      "text/plain": [
       "'Bart, Lisa & Maggie'"
      ]
     },
     "execution_count": 348,
     "metadata": {},
     "output_type": "execute_result"
    }
   ],
   "source": [
    "def namelist(names):\n",
    "    if len(names) == 0: return ''\n",
    "    if len(names) == 1: return names[0]['name']\n",
    "    return ', '.join([n['name'] for n in names[:-1]]) + ' & ' + names[-1]['name']\n",
    "namelist([ {'name': 'Bart'}, {'name': 'Lisa'}, {'name': 'Maggie'} ])"
   ]
  },
  {
   "cell_type": "code",
   "execution_count": 408,
   "metadata": {
    "collapsed": false
   },
   "outputs": [
    {
     "name": "stdout",
     "output_type": "stream",
     "text": [
      "Bart\n",
      "Lisa\n"
     ]
    }
   ],
   "source": [
    "def namelist(names):\n",
    "    for n in names[:-1]:\n",
    "        print n['name']\n",
    "namelist([ {'name': 'Bart'}, {'name': 'Lisa'}, {'name': 'Maggie'} ])"
   ]
  },
  {
   "cell_type": "code",
   "execution_count": 423,
   "metadata": {
    "collapsed": false
   },
   "outputs": [
    {
     "data": {
      "text/plain": [
       "'Bart, Lisa & Maggie'"
      ]
     },
     "execution_count": 423,
     "metadata": {},
     "output_type": "execute_result"
    }
   ],
   "source": [
    "def namelist(names):\n",
    "    if len(names) > 1:\n",
    "        return ('{} & {}').format(', '.join(n['name'] for n in names[:-1]), names[-1]['name'])\n",
    "namelist([ {'name': 'Bart'}, {'name': 'Lisa'}, {'name': 'Maggie'} ])"
   ]
  },
  {
   "cell_type": "code",
   "execution_count": null,
   "metadata": {
    "collapsed": true
   },
   "outputs": [],
   "source": []
  }
 ],
 "metadata": {
  "kernelspec": {
   "display_name": "Python 2",
   "language": "python",
   "name": "python2"
  },
  "language_info": {
   "codemirror_mode": {
    "name": "ipython",
    "version": 2
   },
   "file_extension": ".py",
   "mimetype": "text/x-python",
   "name": "python",
   "nbconvert_exporter": "python",
   "pygments_lexer": "ipython2",
   "version": "2.7.12"
  }
 },
 "nbformat": 4,
 "nbformat_minor": 0
}
