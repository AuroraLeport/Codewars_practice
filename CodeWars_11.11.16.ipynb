{
 "cells": [
  {
   "cell_type": "markdown",
   "metadata": {
    "collapsed": false
   },
   "source": [
    "# DNA"
   ]
  },
  {
   "cell_type": "code",
   "execution_count": 1,
   "metadata": {
    "collapsed": false
   },
   "outputs": [
    {
     "name": "stdout",
     "output_type": "stream",
     "text": [
      "TAGC\n"
     ]
    }
   ],
   "source": [
    "dna = 'ATCG'\n",
    "def DNA_strand(dna):\n",
    "    dna = dna.replace('A', 't').replace('C', 'g').replace('G','c').replace('T','a')\n",
    "    return dna.upper()\n",
    "print DNA_strand(dna)"
   ]
  },
  {
   "cell_type": "code",
   "execution_count": 21,
   "metadata": {
    "collapsed": false
   },
   "outputs": [
    {
     "name": "stdout",
     "output_type": "stream",
     "text": [
      "TAGC\n"
     ]
    }
   ],
   "source": [
    "dna = 'ATCG'\n",
    "def DNA_strand(dna):\n",
    "    dnadict = {'A':'T', 'C':'G', 'G':'C', 'T':'A'}\n",
    "    return ''.join([dnadict[cnt] for cnt in dna])\n",
    "    #for cnt in dna:\n",
    "    #    print dnadict[cnt]\n",
    "print DNA_strand(dna)"
   ]
  },
  {
   "cell_type": "markdown",
   "metadata": {
    "collapsed": true
   },
   "source": [
    "# Even or Odd: \n",
    "Create a function that takes an integer as an argument and returns \"Even\" for even numbers or \"Odd\" for odd numbers."
   ]
  },
  {
   "cell_type": "code",
   "execution_count": 5,
   "metadata": {
    "collapsed": false
   },
   "outputs": [
    {
     "data": {
      "text/plain": [
       "'Odd'"
      ]
     },
     "execution_count": 5,
     "metadata": {},
     "output_type": "execute_result"
    }
   ],
   "source": [
    "def even_or_odd(number):\n",
    "    if number%2 == 0:\n",
    "        return \"Even\"\n",
    "    elif number%2 != 0:\n",
    "        return \"Odd\"\n",
    "\n",
    "even_or_odd(7)"
   ]
  },
  {
   "cell_type": "code",
   "execution_count": 7,
   "metadata": {
    "collapsed": false
   },
   "outputs": [
    {
     "data": {
      "text/plain": [
       "'Even'"
      ]
     },
     "execution_count": 7,
     "metadata": {},
     "output_type": "execute_result"
    }
   ],
   "source": [
    "def even_or_odd(number):\n",
    "    return 'Even' if number%2 == 0 else 'Odd'\n",
    "\n",
    "even_or_odd(0)"
   ]
  },
  {
   "cell_type": "markdown",
   "metadata": {},
   "source": [
    "# Find the next perfect square! \n",
    "\n",
    "You might know some pretty large perfect squares. But what about the NEXT one?\n",
    "Complete the findNextSquare method that finds the next integral perfect square after the one passed as a parameter. Recall that an integral perfect square is an integer n such that sqrt(n) is also an integer.\n",
    "If the parameter is itself not a perfect square, than -1 should be returned. You may assume the parameter is positive."
   ]
  },
  {
   "cell_type": "code",
   "execution_count": 43,
   "metadata": {
    "collapsed": false
   },
   "outputs": [
    {
     "data": {
      "text/plain": [
       "144.0"
      ]
     },
     "execution_count": 43,
     "metadata": {},
     "output_type": "execute_result"
    }
   ],
   "source": [
    "def find_next_square(sq):\n",
    "    # Return the next square if sq is a square, -1 otherwise\n",
    "    try:\n",
    "        if sq%(sq**(0.5)) == 0:\n",
    "            #print \"true\", sq**(.50)\n",
    "            sq_new = (sq**(0.5) + 1)**2\n",
    "            return sq_new\n",
    "        else:\n",
    "            return -1\n",
    "    except 'ZeroDivisionError: float modulo':\n",
    "        pass\n",
    "\n",
    "find_next_square(121)"
   ]
  },
  {
   "cell_type": "code",
   "execution_count": 48,
   "metadata": {
    "collapsed": false
   },
   "outputs": [
    {
     "data": {
      "text/plain": [
       "169.0"
      ]
     },
     "execution_count": 48,
     "metadata": {},
     "output_type": "execute_result"
    }
   ],
   "source": [
    "def find_next_square(sq):\n",
    "    root = sq**(0.5)\n",
    "    if root.is_integer():\n",
    "        return (root+1)**2\n",
    "    return -1\n",
    "find_next_square(144)"
   ]
  },
  {
   "cell_type": "code",
   "execution_count": 67,
   "metadata": {
    "collapsed": false
   },
   "outputs": [
    {
     "name": "stdout",
     "output_type": "stream",
     "text": [
      "11.0\n"
     ]
    },
    {
     "data": {
      "text/plain": [
       "144.0"
      ]
     },
     "execution_count": 67,
     "metadata": {},
     "output_type": "execute_result"
    }
   ],
   "source": [
    "def find_next_square(sq):\n",
    "    x = sq**(0.5)\n",
    "    print x\n",
    "    return -1 if x%1 else (x+1)**2 \n",
    "find_next_square(121)"
   ]
  },
  {
   "cell_type": "code",
   "execution_count": 71,
   "metadata": {
    "collapsed": false
   },
   "outputs": [
    {
     "data": {
      "text/plain": [
       "-1"
      ]
     },
     "execution_count": 71,
     "metadata": {},
     "output_type": "execute_result"
    }
   ],
   "source": [
    "import math\n",
    "def find_next_square(sq):\n",
    "    x = (float(math.sqrt(sq)))\n",
    "    if x%1 == 0:\n",
    "        return pow(int(x)+1,2)\n",
    "    return -1\n",
    "find_next_square(122)"
   ]
  },
  {
   "cell_type": "markdown",
   "metadata": {},
   "source": [
    "# Growth of a Population\n",
    "In a small town the population is p0 = 1000 at the beginning of a year. The population regularly increases by 2 percent per year and moreover 50 new inhabitants per year come to live in the town. How many years does the town need to see its population greater or equal to p = 1200 inhabitants?"
   ]
  },
  {
   "cell_type": "code",
   "execution_count": 101,
   "metadata": {
    "collapsed": false
   },
   "outputs": [
    {
     "data": {
      "text/plain": [
       "15"
      ]
     },
     "execution_count": 101,
     "metadata": {},
     "output_type": "execute_result"
    }
   ],
   "source": [
    "def nb_year(p0, percent, aug, p):\n",
    "    count = 0\n",
    "    while p0 < p:\n",
    "        p0 += (p0 * percent/100.0) + aug\n",
    "        count += 1\n",
    "    return count\n",
    "\n",
    "nb_year(1500, 5, 100, 5000)"
   ]
  },
  {
   "cell_type": "markdown",
   "metadata": {},
   "source": [
    "# Find the odd int\n",
    "Given an array, find the int that appears an odd number of times.\n",
    "There will always be only one integer that appears an odd number of times."
   ]
  },
  {
   "cell_type": "markdown",
   "metadata": {},
   "source": [
    "# Sum without highest and lowest number\n",
    "Sum all the numbers of the array except the highest and the lowest element (the value, not the index!).\n",
    "(The highest/lowest element is respectively only one element at each edge, even if there are more than one with the same value!)"
   ]
  },
  {
   "cell_type": "code",
   "execution_count": 165,
   "metadata": {
    "collapsed": false
   },
   "outputs": [
    {
     "data": {
      "text/plain": [
       "0"
      ]
     },
     "execution_count": 165,
     "metadata": {},
     "output_type": "execute_result"
    }
   ],
   "source": [
    "def sum_array(arr):\n",
    "    if arr == None or len(arr) < 3:\n",
    "        return 0\n",
    "    else:\n",
    "        arr.remove(max(arr))\n",
    "        arr.remove(min(arr))\n",
    "        return sum(arr)\n",
    "sum_array([1,2])"
   ]
  },
  {
   "cell_type": "code",
   "execution_count": 166,
   "metadata": {
    "collapsed": false
   },
   "outputs": [
    {
     "data": {
      "text/plain": [
       "2"
      ]
     },
     "execution_count": 166,
     "metadata": {},
     "output_type": "execute_result"
    }
   ],
   "source": [
    "def sum_array(arr):\n",
    "    if arr == None or len(arr) < 3:\n",
    "        return 0\n",
    "    return sum(arr) - max(arr) - min(arr)\n",
    "sum_array([1,2,10])"
   ]
  },
  {
   "cell_type": "code",
   "execution_count": 172,
   "metadata": {
    "collapsed": false
   },
   "outputs": [
    {
     "data": {
      "text/plain": [
       "2"
      ]
     },
     "execution_count": 172,
     "metadata": {},
     "output_type": "execute_result"
    }
   ],
   "source": [
    "def sum_array(arr):\n",
    "    return 0 if arr == None else sum(sorted(arr[1:-1]))\n",
    "sum_array([1,2,10])"
   ]
  },
  {
   "cell_type": "code",
   "execution_count": 184,
   "metadata": {
    "collapsed": false
   },
   "outputs": [
    {
     "data": {
      "text/plain": [
       "12"
      ]
     },
     "execution_count": 184,
     "metadata": {},
     "output_type": "execute_result"
    }
   ],
   "source": [
    "def sum_array(arr):\n",
    "    if arr is None or len(arr) < 2:\n",
    "        return 0\n",
    "    mi, ma, s = arr[0], arr[0], 0\n",
    "    for x in arr:\n",
    "        if x > ma:\n",
    "            ma = x\n",
    "        elif x < mi:\n",
    "            mi = x\n",
    "        s += x\n",
    "    return s - mi - ma\n",
    "sum_array([11,1,2,10])"
   ]
  },
  {
   "cell_type": "markdown",
   "metadata": {},
   "source": [
    "# Vowel Count:\n",
    "Return the number (count) of vowels in the given string.\n",
    "We will consider a, e, i, o, and u as vowels for this Kata."
   ]
  },
  {
   "cell_type": "code",
   "execution_count": 201,
   "metadata": {
    "collapsed": false
   },
   "outputs": [
    {
     "data": {
      "text/plain": [
       "5"
      ]
     },
     "execution_count": 201,
     "metadata": {},
     "output_type": "execute_result"
    }
   ],
   "source": [
    "def getCount(inputStr):\n",
    "    num_vowels = 0\n",
    "    for char in inputStr:\n",
    "        if char in \"aeiou\":\n",
    "            num_vowels += 1\n",
    "    return num_vowels\n",
    "getCount(\"abracadabra\")"
   ]
  },
  {
   "cell_type": "code",
   "execution_count": null,
   "metadata": {
    "collapsed": true
   },
   "outputs": [],
   "source": [
    "def getCount(inputStr):\n",
    "    return sum(char in 'aeiou' for char in inputStr)\n",
    "getCount(\"abracadabra\")"
   ]
  }
 ],
 "metadata": {
  "kernelspec": {
   "display_name": "Python 2",
   "language": "python",
   "name": "python2"
  },
  "language_info": {
   "codemirror_mode": {
    "name": "ipython",
    "version": 2
   },
   "file_extension": ".py",
   "mimetype": "text/x-python",
   "name": "python",
   "nbconvert_exporter": "python",
   "pygments_lexer": "ipython2",
   "version": "2.7.12"
  }
 },
 "nbformat": 4,
 "nbformat_minor": 0
}
