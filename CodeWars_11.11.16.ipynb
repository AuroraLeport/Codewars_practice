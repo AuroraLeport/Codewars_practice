{
 "cells": [
  {
   "cell_type": "markdown",
   "metadata": {
    "collapsed": false
   },
   "source": [
    "# DNA"
   ]
  },
  {
   "cell_type": "code",
   "execution_count": 1,
   "metadata": {
    "collapsed": false
   },
   "outputs": [
    {
     "data": {
      "text/plain": [
       "{'A': 'T', 'C': 'G', 'G': 'C', 'T': 'A', 'V': 'C'}"
      ]
     },
     "execution_count": 1,
     "metadata": {},
     "output_type": "execute_result"
    }
   ],
   "source": [
    "dnadict = {'A':'T', 'C':'G', 'G':'C', 'T':'A'}\n",
    "dnadict['V'] = 'C'\n",
    "dnadict"
   ]
  },
  {
   "cell_type": "code",
   "execution_count": 2,
   "metadata": {
    "collapsed": false
   },
   "outputs": [
    {
     "name": "stdout",
     "output_type": "stream",
     "text": [
      "TAGC\n"
     ]
    }
   ],
   "source": [
    "dna = 'ATCG'\n",
    "def DNA_strand(dna):\n",
    "    dna = dna.replace('A', 't').replace('C', 'g').replace('G','c').replace('T','a')\n",
    "    return dna.upper()\n",
    "print DNA_strand(dna)"
   ]
  },
  {
   "cell_type": "code",
   "execution_count": 3,
   "metadata": {
    "collapsed": false
   },
   "outputs": [
    {
     "name": "stdout",
     "output_type": "stream",
     "text": [
      "TAGC\n"
     ]
    }
   ],
   "source": [
    "dna = 'ATCG'\n",
    "def DNA_strand(dna):\n",
    "    dnadict = {'A':'T', 'C':'G', 'G':'C', 'T':'A'}\n",
    "    return ''.join([dnadict[cnt] for cnt in dna])\n",
    "    #for cnt in dna:\n",
    "    #    print dnadict[cnt]\n",
    "print DNA_strand(dna)"
   ]
  },
  {
   "cell_type": "markdown",
   "metadata": {
    "collapsed": true
   },
   "source": [
    "# Even or Odd: \n",
    "Create a function that takes an integer as an argument and returns \"Even\" for even numbers or \"Odd\" for odd numbers."
   ]
  },
  {
   "cell_type": "code",
   "execution_count": 4,
   "metadata": {
    "collapsed": false
   },
   "outputs": [
    {
     "data": {
      "text/plain": [
       "'Odd'"
      ]
     },
     "execution_count": 4,
     "metadata": {},
     "output_type": "execute_result"
    }
   ],
   "source": [
    "def even_or_odd(number):\n",
    "    if number%2 == 0:\n",
    "        return \"Even\"\n",
    "    elif number%2 != 0:\n",
    "        return \"Odd\"\n",
    "\n",
    "even_or_odd(7)"
   ]
  },
  {
   "cell_type": "code",
   "execution_count": 5,
   "metadata": {
    "collapsed": false
   },
   "outputs": [
    {
     "data": {
      "text/plain": [
       "'Even'"
      ]
     },
     "execution_count": 5,
     "metadata": {},
     "output_type": "execute_result"
    }
   ],
   "source": [
    "def even_or_odd(number):\n",
    "    return 'Even' if number%2 == 0 else 'Odd'\n",
    "\n",
    "even_or_odd(0)"
   ]
  },
  {
   "cell_type": "markdown",
   "metadata": {},
   "source": [
    "# Find the next perfect square! \n",
    "\n",
    "You might know some pretty large perfect squares. But what about the NEXT one?\n",
    "Complete the findNextSquare method that finds the next integral perfect square after the one passed as a parameter. Recall that an integral perfect square is an integer n such that sqrt(n) is also an integer.\n",
    "If the parameter is itself not a perfect square, than -1 should be returned. You may assume the parameter is positive."
   ]
  },
  {
   "cell_type": "code",
   "execution_count": 6,
   "metadata": {
    "collapsed": false
   },
   "outputs": [
    {
     "data": {
      "text/plain": [
       "144.0"
      ]
     },
     "execution_count": 6,
     "metadata": {},
     "output_type": "execute_result"
    }
   ],
   "source": [
    "def find_next_square(sq):\n",
    "    # Return the next square if sq is a square, -1 otherwise\n",
    "    try:\n",
    "        if sq%(sq**(0.5)) == 0:\n",
    "            #print \"true\", sq**(.50)\n",
    "            sq_new = (sq**(0.5) + 1)**2\n",
    "            return sq_new\n",
    "        else:\n",
    "            return -1\n",
    "    except 'ZeroDivisionError: float modulo':\n",
    "        pass\n",
    "\n",
    "find_next_square(121)"
   ]
  },
  {
   "cell_type": "code",
   "execution_count": 7,
   "metadata": {
    "collapsed": false
   },
   "outputs": [
    {
     "data": {
      "text/plain": [
       "169.0"
      ]
     },
     "execution_count": 7,
     "metadata": {},
     "output_type": "execute_result"
    }
   ],
   "source": [
    "def find_next_square(sq):\n",
    "    root = sq**(0.5)\n",
    "    if root.is_integer():\n",
    "        return (root+1)**2\n",
    "    return -1\n",
    "find_next_square(144)"
   ]
  },
  {
   "cell_type": "code",
   "execution_count": 8,
   "metadata": {
    "collapsed": false
   },
   "outputs": [
    {
     "name": "stdout",
     "output_type": "stream",
     "text": [
      "11.0\n"
     ]
    },
    {
     "data": {
      "text/plain": [
       "144.0"
      ]
     },
     "execution_count": 8,
     "metadata": {},
     "output_type": "execute_result"
    }
   ],
   "source": [
    "def find_next_square(sq):\n",
    "    x = sq**(0.5)\n",
    "    print x\n",
    "    return -1 if x%1 else (x+1)**2 \n",
    "find_next_square(121)"
   ]
  },
  {
   "cell_type": "code",
   "execution_count": 9,
   "metadata": {
    "collapsed": false
   },
   "outputs": [
    {
     "data": {
      "text/plain": [
       "-1"
      ]
     },
     "execution_count": 9,
     "metadata": {},
     "output_type": "execute_result"
    }
   ],
   "source": [
    "import math\n",
    "def find_next_square(sq):\n",
    "    x = (float(math.sqrt(sq)))\n",
    "    if x%1 == 0:\n",
    "        return pow(int(x)+1,2)\n",
    "    return -1\n",
    "find_next_square(122)"
   ]
  },
  {
   "cell_type": "markdown",
   "metadata": {},
   "source": [
    "# Growth of a Population\n",
    "In a small town the population is p0 = 1000 at the beginning of a year. The population regularly increases by 2 percent per year and moreover 50 new inhabitants per year come to live in the town. How many years does the town need to see its population greater or equal to p = 1200 inhabitants?"
   ]
  },
  {
   "cell_type": "code",
   "execution_count": 10,
   "metadata": {
    "collapsed": false
   },
   "outputs": [
    {
     "data": {
      "text/plain": [
       "15"
      ]
     },
     "execution_count": 10,
     "metadata": {},
     "output_type": "execute_result"
    }
   ],
   "source": [
    "def nb_year(p0, percent, aug, p):\n",
    "    count = 0\n",
    "    while p0 < p:\n",
    "        p0 += (p0 * percent/100.0) + aug\n",
    "        count += 1\n",
    "    return count\n",
    "\n",
    "nb_year(1500, 5, 100, 5000)"
   ]
  },
  {
   "cell_type": "markdown",
   "metadata": {},
   "source": [
    "# Find the odd int\n",
    "Given an array, find the int that appears an odd number of times.\n",
    "There will always be only one integer that appears an odd number of times."
   ]
  },
  {
   "cell_type": "markdown",
   "metadata": {},
   "source": [
    "# Sum without highest and lowest number\n",
    "Sum all the numbers of the array except the highest and the lowest element (the value, not the index!).\n",
    "(The highest/lowest element is respectively only one element at each edge, even if there are more than one with the same value!)"
   ]
  },
  {
   "cell_type": "code",
   "execution_count": 11,
   "metadata": {
    "collapsed": false
   },
   "outputs": [
    {
     "data": {
      "text/plain": [
       "0"
      ]
     },
     "execution_count": 11,
     "metadata": {},
     "output_type": "execute_result"
    }
   ],
   "source": [
    "def sum_array(arr):\n",
    "    if arr == None or len(arr) < 3:\n",
    "        return 0\n",
    "    else:\n",
    "        arr.remove(max(arr))\n",
    "        arr.remove(min(arr))\n",
    "        return sum(arr)\n",
    "sum_array([1,2])"
   ]
  },
  {
   "cell_type": "code",
   "execution_count": 12,
   "metadata": {
    "collapsed": false
   },
   "outputs": [
    {
     "data": {
      "text/plain": [
       "2"
      ]
     },
     "execution_count": 12,
     "metadata": {},
     "output_type": "execute_result"
    }
   ],
   "source": [
    "def sum_array(arr):\n",
    "    if arr == None or len(arr) < 3:\n",
    "        return 0\n",
    "    return sum(arr) - max(arr) - min(arr)\n",
    "sum_array([1,2,10])"
   ]
  },
  {
   "cell_type": "code",
   "execution_count": 13,
   "metadata": {
    "collapsed": false
   },
   "outputs": [
    {
     "data": {
      "text/plain": [
       "2"
      ]
     },
     "execution_count": 13,
     "metadata": {},
     "output_type": "execute_result"
    }
   ],
   "source": [
    "def sum_array(arr):\n",
    "    return 0 if arr == None else sum(sorted(arr[1:-1]))\n",
    "sum_array([1,2,10])"
   ]
  },
  {
   "cell_type": "code",
   "execution_count": 14,
   "metadata": {
    "collapsed": false
   },
   "outputs": [
    {
     "data": {
      "text/plain": [
       "12"
      ]
     },
     "execution_count": 14,
     "metadata": {},
     "output_type": "execute_result"
    }
   ],
   "source": [
    "def sum_array(arr):\n",
    "    if arr is None or len(arr) < 2:\n",
    "        return 0\n",
    "    mi, ma, s = arr[0], arr[0], 0\n",
    "    for x in arr:\n",
    "        if x > ma:\n",
    "            ma = x\n",
    "        elif x < mi:\n",
    "            mi = x\n",
    "        s += x\n",
    "    return s - mi - ma\n",
    "sum_array([11,1,2,10])"
   ]
  },
  {
   "cell_type": "markdown",
   "metadata": {},
   "source": [
    "# Vowel Count:\n",
    "Return the number (count) of vowels in the given string.\n",
    "We will consider a, e, i, o, and u as vowels for this Kata."
   ]
  },
  {
   "cell_type": "code",
   "execution_count": 15,
   "metadata": {
    "collapsed": false
   },
   "outputs": [
    {
     "data": {
      "text/plain": [
       "5"
      ]
     },
     "execution_count": 15,
     "metadata": {},
     "output_type": "execute_result"
    }
   ],
   "source": [
    "def getCount(inputStr):\n",
    "    num_vowels = 0\n",
    "    for char in inputStr:\n",
    "        if char in \"aeiou\":\n",
    "            num_vowels += 1\n",
    "    return num_vowels\n",
    "getCount(\"abracadabra\")"
   ]
  },
  {
   "cell_type": "code",
   "execution_count": 16,
   "metadata": {
    "collapsed": false
   },
   "outputs": [
    {
     "data": {
      "text/plain": [
       "5"
      ]
     },
     "execution_count": 16,
     "metadata": {},
     "output_type": "execute_result"
    }
   ],
   "source": [
    "def getCount(inputStr):\n",
    "    return sum(char in 'aeiou' for char in inputStr)\n",
    "getCount(\"abracadabra\")"
   ]
  },
  {
   "cell_type": "markdown",
   "metadata": {},
   "source": [
    "# Double Char\n",
    "Given a string, you have to return a string in which each character (case-sensitive) is repeated once."
   ]
  },
  {
   "cell_type": "code",
   "execution_count": 17,
   "metadata": {
    "collapsed": false
   },
   "outputs": [
    {
     "data": {
      "text/plain": [
       "'HHeelllloo  WWoorrlldd'"
      ]
     },
     "execution_count": 17,
     "metadata": {},
     "output_type": "execute_result"
    }
   ],
   "source": [
    "def double_char(s):\n",
    "    first = ''\n",
    "    for word in s:\n",
    "        for char in word:\n",
    "            first += first.join(char)\n",
    "            first += first.join(char)\n",
    "    return first\n",
    "double_char(\"Hello World\")"
   ]
  },
  {
   "cell_type": "code",
   "execution_count": 18,
   "metadata": {
    "collapsed": false
   },
   "outputs": [
    {
     "data": {
      "text/plain": [
       "'HHeelllloo  WWoorrlldd'"
      ]
     },
     "execution_count": 18,
     "metadata": {},
     "output_type": "execute_result"
    }
   ],
   "source": [
    "def double_char(s):\n",
    "    double = ''\n",
    "    for c in s:\n",
    "        double += ''.join(c*2)\n",
    "    return double\n",
    "double_char(\"Hello World\")"
   ]
  },
  {
   "cell_type": "code",
   "execution_count": 19,
   "metadata": {
    "collapsed": false
   },
   "outputs": [
    {
     "data": {
      "text/plain": [
       "'HHeelllloo  WWoorrlldd'"
      ]
     },
     "execution_count": 19,
     "metadata": {},
     "output_type": "execute_result"
    }
   ],
   "source": [
    "def double_char(s):\n",
    "    return ''.join(c*2 for c in s)\n",
    "double_char(\"Hello World\")"
   ]
  },
  {
   "cell_type": "markdown",
   "metadata": {
    "collapsed": true
   },
   "source": [
    "# Printer Errors\n",
    "In a factory a printer prints labels for boxes. For one kind of boxes the printer has to use colors which, for the sake of simplicity, are named with letters from a to m.\n",
    "\n",
    "The colors used by the printer are recorded in a control string. For example a \"good\" control string would be aaabbbbhaijjjm meaning that the printer used three times color a, four times color b, then one time color a...\n",
    "\n",
    "Sometimes there are problems: lack of colors, technical malfunction and a \"bad\" control string is produced e.g. aaaxbbbbyyhwawiwjjjwwm.\n",
    "\n",
    "You have to write a function printer_error which given a string will output the error rate of the printer as a string representing a rational whose numerator is the number of errors and the denominator the length of the control string. Don't reduce this fraction to a simpler expression.\n",
    "\n",
    "The string has a length greater or equal to one and contains only letters from ato z."
   ]
  },
  {
   "cell_type": "code",
   "execution_count": 20,
   "metadata": {
    "collapsed": false
   },
   "outputs": [
    {
     "data": {
      "text/plain": [
       "'2/16'"
      ]
     },
     "execution_count": 20,
     "metadata": {},
     "output_type": "execute_result"
    }
   ],
   "source": [
    "from fractions import Fraction\n",
    "def printer_error(s):\n",
    "    fraction = ''\n",
    "    num = 0\n",
    "    den = len(s)\n",
    "    for char in s:\n",
    "        if char not in 'abcdefghijklm':\n",
    "            num += len(char)\n",
    "    #f = Fraction(num,den)\n",
    "    den = str(den)\n",
    "    num = str(num)\n",
    "    fraction = ''.join(num)\n",
    "    fraction += ''.join('/')\n",
    "    fraction += ''.join(den)\n",
    "    return fraction\n",
    "            \n",
    "printer_error('aaabbbbhaijjjmxx')"
   ]
  },
  {
   "cell_type": "code",
   "execution_count": 21,
   "metadata": {
    "collapsed": false
   },
   "outputs": [
    {
     "data": {
      "text/plain": [
       "'2/16'"
      ]
     },
     "execution_count": 21,
     "metadata": {},
     "output_type": "execute_result"
    }
   ],
   "source": [
    "def printer_error(s):\n",
    "    return \"{}/{}\".format(len([char for char in s if char not in 'abcdefghijklm']), len(s))\n",
    "printer_error('aaabbbbhaijjjmxx')"
   ]
  },
  {
   "cell_type": "markdown",
   "metadata": {},
   "source": [
    "# Format a string of names like 'Bart, Lisa & Maggie'.\n",
    "Given: an array containing hashes of names\n",
    "\n",
    "Return: a string formatted as a list of names separated by commas except for the last two names, which should be separated by an ampersand."
   ]
  },
  {
   "cell_type": "code",
   "execution_count": 22,
   "metadata": {
    "collapsed": false
   },
   "outputs": [
    {
     "data": {
      "text/plain": [
       "'Bart, Lisa & Maggie'"
      ]
     },
     "execution_count": 22,
     "metadata": {},
     "output_type": "execute_result"
    }
   ],
   "source": [
    "def namelist(names):\n",
    "    new_list = ''\n",
    "    for i in range(len(names)-2):\n",
    "        new_list += ''.join((names[i]['name'], ', '))\n",
    "    for i in range(len(names))[-2:-1]: \n",
    "        new_list += ''.join((names[i]['name'],' & '))\n",
    "    for i in range(len(names))[-1:]:\n",
    "        new_list += ''.join((names[i]['name']))\n",
    "    return new_list\n",
    "namelist([ {'name': 'Bart'}, {'name': 'Lisa'}, {'name': 'Maggie'} ])"
   ]
  },
  {
   "cell_type": "code",
   "execution_count": 23,
   "metadata": {
    "collapsed": false
   },
   "outputs": [
    {
     "data": {
      "text/plain": [
       "'Bart, Lisa & Maggie'"
      ]
     },
     "execution_count": 23,
     "metadata": {},
     "output_type": "execute_result"
    }
   ],
   "source": [
    "def namelist(names):\n",
    "    if len(names) == 0: return ''\n",
    "    if len(names) == 1: return names[0]['name']\n",
    "    return ', '.join([n['name'] for n in names[:-1]]) + ' & ' + names[-1]['name']\n",
    "namelist([ {'name': 'Bart'}, {'name': 'Lisa'}, {'name': 'Maggie'} ])"
   ]
  },
  {
   "cell_type": "code",
   "execution_count": 24,
   "metadata": {
    "collapsed": false
   },
   "outputs": [
    {
     "name": "stdout",
     "output_type": "stream",
     "text": [
      "Bart\n",
      "Lisa\n"
     ]
    }
   ],
   "source": [
    "def namelist(names):\n",
    "    for n in names[:-1]:\n",
    "        print n['name']\n",
    "namelist([ {'name': 'Bart'}, {'name': 'Lisa'}, {'name': 'Maggie'} ])"
   ]
  },
  {
   "cell_type": "code",
   "execution_count": 25,
   "metadata": {
    "collapsed": false
   },
   "outputs": [
    {
     "data": {
      "text/plain": [
       "'Bart, Lisa & Maggie'"
      ]
     },
     "execution_count": 25,
     "metadata": {},
     "output_type": "execute_result"
    }
   ],
   "source": [
    "def namelist(names):\n",
    "    if len(names) > 1:\n",
    "        return ('{} & {}').format(', '.join(n['name'] for n in names[:-1]), names[-1]['name'])\n",
    "namelist([ {'name': 'Bart'}, {'name': 'Lisa'}, {'name': 'Maggie'} ])"
   ]
  },
  {
   "cell_type": "markdown",
   "metadata": {},
   "source": [
    "# Replace With Alphabet Position\n",
    "Welcome. In this kata you are required to, given a string, replace every letter with its position in the alphabet. If anything in the text isn't a letter, ignore it and don't return it. a being 1, b being 2, etc. As an example:"
   ]
  },
  {
   "cell_type": "code",
   "execution_count": 26,
   "metadata": {
    "collapsed": false
   },
   "outputs": [
    {
     "data": {
      "text/plain": [
       "'1 2 3 4 5'"
      ]
     },
     "execution_count": 26,
     "metadata": {},
     "output_type": "execute_result"
    }
   ],
   "source": [
    "def alphabet_position(text):\n",
    "    textdict = {'a':1, 'b':2, 'c':3, 'd':4, 'e':5, 'f':6, 'g':7, 'h':8, 'i':9, \\\n",
    "                'j':10, 'k':11, 'l':12, 'm':13, 'n':14, 'o':15, 'p':16, 'q':17, \\\n",
    "                'r':18, 's':19, 't':20, 'u':21, 'v':22, 'w':23, 'x':24, 'y':25, 'z':26}\n",
    "    new_text = ''\n",
    "    for letter in text[:-1]:\n",
    "        if letter in \"abcdefghijklmnopqrstuvwxyz\":\n",
    "            new_text += str(textdict[letter]) + ' '\n",
    "            #new_text += new_text.join(textdict[letter])\n",
    "        else:\n",
    "            pass\n",
    "    for letter in text[-1]:\n",
    "        if letter in \"abcdefghijklmnopqrstuvwxyz\":\n",
    "            new_text += str(textdict[letter])\n",
    "            #new_text += new_text.join(textdict[letter])\n",
    "        else:\n",
    "            pass   \n",
    "    return new_text\n",
    "alphabet_position(\"abcde\")"
   ]
  },
  {
   "cell_type": "code",
   "execution_count": 27,
   "metadata": {
    "collapsed": false
   },
   "outputs": [
    {
     "data": {
      "text/plain": [
       "'1 2 3 4 5'"
      ]
     },
     "execution_count": 27,
     "metadata": {},
     "output_type": "execute_result"
    }
   ],
   "source": [
    "def alphabet_position(text):\n",
    "    return ' '.join( str(ord(c) - 96) for c in text.lower() if c.isalpha())\n",
    "alphabet_position(\"abcde\")"
   ]
  },
  {
   "cell_type": "code",
   "execution_count": 28,
   "metadata": {
    "collapsed": false
   },
   "outputs": [
    {
     "name": "stdout",
     "output_type": "stream",
     "text": [
      "a\n",
      "b\n",
      "c\n",
      "d\n",
      "e\n"
     ]
    },
    {
     "data": {
      "text/plain": [
       "'12345'"
      ]
     },
     "execution_count": 28,
     "metadata": {},
     "output_type": "execute_result"
    }
   ],
   "source": [
    "def alphabet_position(text):\n",
    "    alphabet = \"abcdefghijklmnopqrstuvwxyz\"\n",
    "    new = ''\n",
    "    for letter in text:\n",
    "        print letter\n",
    "        new += str(alphabet.index(letter) + 1)\n",
    "    return new\n",
    "alphabet_position(\"abcde\")"
   ]
  },
  {
   "cell_type": "markdown",
   "metadata": {
    "collapsed": true
   },
   "source": [
    "# Two fighters, one winner.\n",
    "Create a function that returns the name of the winner in a fight between two fighters.\n",
    "\n",
    "Each fighter takes turns attacking the other and whoever kills the other first is victorious. Death is defined as having health <= 0.\n",
    "\n",
    "Each fighter will be a Fighter object/instance. See the Fighter class below in your chosen language.\n",
    "\n",
    "Both health and damagePerAttack (damage_per_attack for python) will be integers larger than 0. You can mutate the Fighter objects."
   ]
  },
  {
   "cell_type": "code",
   "execution_count": 29,
   "metadata": {
    "collapsed": false
   },
   "outputs": [
    {
     "name": "stdout",
     "output_type": "stream",
     "text": [
      "10\n",
      "Lew attacks Harry ; Harry now has 3 health. HERE1\n",
      "Harry attacks Lew ; Lew now has 6 health. HERE2\n",
      "Lew attacks Harry ; Harry now has 1 health. HERE1\n",
      "Harry attacks Lew ; Lew now has 2 health. HERE2\n",
      "Lew attacks Harry ; Harry now has -1 health. HERE1\n",
      "Harry attacks Lew ; Lew now has -2 health. HERE2\n",
      "end\n"
     ]
    }
   ],
   "source": [
    "class Fighter(object):\n",
    "    def __init__(self, name, health, damage_per_attack):\n",
    "        self.name = name\n",
    "        self.health = health\n",
    "        self.damage_per_attack = damage_per_attack\n",
    "        \n",
    "def declare_winner(fighter1, fighter2, first_attacker):\n",
    "    new_health2 = fighter2.health\n",
    "    new_health1 = fighter1.health\n",
    "    print new_health1\n",
    "    while fighter1.name == first_attacker and new_health2 > 0:\n",
    "        fighter2.health = (fighter2.health - fighter1.damage_per_attack)\n",
    "        new_health2 = fighter2.health\n",
    "        first_attacker = fighter2.name\n",
    "        print fighter1.name, \"attacks\", fighter2.name, ';', fighter2.name, 'now has', new_health2,'health. HERE1'\n",
    "        \n",
    "        if fighter2.name == first_attacker and new_health1 > 0:\n",
    "            fighter1.health = (fighter1.health - fighter2.damage_per_attack)\n",
    "            new_health1 = fighter1.health\n",
    "            first_attacker = fighter1.name\n",
    "            print fighter2.name, \"attacks\", fighter1.name, ';', fighter1.name, 'now has', new_health1,'health. HERE2'\n",
    "        \n",
    "        if new_health1 < 0:\n",
    "            print \"end\"\n",
    "    \n",
    "    while fighter2.name == first_attacker and new_health2 > 0:\n",
    "        fighter1.health = (fighter1.health - fighter2.damage_per_attack)\n",
    "        new_health1 = fighter1.health\n",
    "        first_attacker = fighter1.name\n",
    "        print fighter2.name, \"attacks\", fighter1.name, ';', fighter1.name, 'now has', new_health1,'health.'\n",
    "        \n",
    "        if fighter1.name == first_attacker and new_health1 > 0:\n",
    "            fighter2.health = (fighter2.health - fighter1.damage_per_attack)\n",
    "            new_health2 = fighter2.health\n",
    "            first_attacker = fighter2.name\n",
    "            print fighter1.name, \"attacks\", fighter2.name, ';', fighter2.name, 'now has', new_health2,'health.'\n",
    "\n",
    "declare_winner(Fighter(\"Lew\", 10, 2),Fighter(\"Harry\", 5, 4), \"Lew\")"
   ]
  },
  {
   "cell_type": "code",
   "execution_count": 693,
   "metadata": {
    "collapsed": false
   },
   "outputs": [
    {
     "name": "stdout",
     "output_type": "stream",
     "text": [
      "10\n",
      "6\n",
      "2\n"
     ]
    },
    {
     "data": {
      "text/plain": [
       "'Lew'"
      ]
     },
     "execution_count": 693,
     "metadata": {},
     "output_type": "execute_result"
    }
   ],
   "source": [
    "class Fighter(object):\n",
    "    def __init__(self, name, health, damage_per_attack):\n",
    "        self.name = name\n",
    "        self.health = health\n",
    "        self.damage_per_attack = damage_per_attack\n",
    "        \n",
    "def declare_winner(fighter1, fighter2, first_attacker):\n",
    "    if first_attacker == fighter2.name:\n",
    "        fighter1, fighter2 = fighter2, fighter1\n",
    "    while True:\n",
    "        print fighter1.health\n",
    "        fighter2.health -= fighter1.damage_per_attack\n",
    "        if fighter2.health <= 0:\n",
    "            return fighter1.name\n",
    "        fighter1.health -= fighter2.damage_per_attack\n",
    "        if fighter1.health <= 0:\n",
    "            return fighter2.name\n",
    "    return 0\n",
    "\n",
    "declare_winner(Fighter(\"Lew\", 10, 2),Fighter(\"Harry\", 5, 4), \"Lew\")"
   ]
  },
  {
   "cell_type": "markdown",
   "metadata": {
    "collapsed": true
   },
   "source": [
    "# Hacker rank"
   ]
  },
  {
   "cell_type": "code",
   "execution_count": null,
   "metadata": {
    "collapsed": false
   },
   "outputs": [],
   "source": [
    "def  solvePuzzle(num):\n",
    "    counter = 0\n",
    "    for char in str(num):\n",
    "        if char in '12357':\n",
    "            counter += 0\n",
    "        elif char in '0469':\n",
    "            counter += 1\n",
    "        elif char in '8':\n",
    "            counter += 2\n",
    "    return counter\n",
    "        \n",
    "solvePuzzle(12488)"
   ]
  },
  {
   "cell_type": "code",
   "execution_count": null,
   "metadata": {
    "collapsed": false
   },
   "outputs": [],
   "source": [
    "def  match(matchtype, left, right):\n",
    "    left_list = ''\n",
    "    right_list = ''\n",
    "    if matchtype == 'left':\n",
    "        for i in range(len(left)):\n",
    "            for fruit in right:\n",
    "                if left[i] == fruit:\n",
    "                    print left.index(left[i]), right.index(fruit)\n",
    "                elif left[i] not in right:\n",
    "                    print left.index(left[i]), -1\n",
    "                    \n",
    "    elif matchtype == 'right':\n",
    "        for i in range(len(right)):\n",
    "            for fruit in left:\n",
    "                if right[i] == fruit:\n",
    "                    print left.index(fruit), right.index(right[i])\n",
    "                elif right[i] not in left:\n",
    "                    print right.index(right[i]), -1\n",
    "match('right', ['apple', 'grape', 'grape','mellon'], ['grape','lemon','apple'])"
   ]
  },
  {
   "cell_type": "code",
   "execution_count": null,
   "metadata": {
    "collapsed": false
   },
   "outputs": [],
   "source": [
    "import itertools\n",
    "\n",
    "def  match(matchtype, left, right):\n",
    "    for left,right in itertools.izip(left,right):\n",
    "        if left == right:\n",
    "            print (left,right)\n",
    "match('left', ['apple', 'grape', 'grape','mellon'], ['grape','lemon','apple'])"
   ]
  },
  {
   "cell_type": "markdown",
   "metadata": {},
   "source": [
    "# Binary Addition\n",
    "Implement a function that adds two numbers together and returns their sum in binary. The conversion can be done before, or after the addition.\n",
    "\n",
    "The binary number returned should be a string.\n"
   ]
  },
  {
   "cell_type": "code",
   "execution_count": 4,
   "metadata": {
    "collapsed": false
   },
   "outputs": [
    {
     "data": {
      "text/plain": [
       "'100'"
      ]
     },
     "execution_count": 4,
     "metadata": {},
     "output_type": "execute_result"
    }
   ],
   "source": [
    "def find_highest_power_2(num):\n",
    "    n=0\n",
    "    while 2**n <= num:\n",
    "        n += 1\n",
    "    return n-1 \n",
    "\n",
    "def add_binary(a,b):\n",
    "    sum = a + b\n",
    "    number = 0\n",
    "    while sum != 0:\n",
    "        place_holder = find_highest_power_2(sum)\n",
    "        number += 10**place_holder\n",
    "        sum = sum - 2**place_holder\n",
    "    return str(number) \n",
    "add_binary(2,2)"
   ]
  },
  {
   "cell_type": "code",
   "execution_count": 2,
   "metadata": {
    "collapsed": false
   },
   "outputs": [
    {
     "data": {
      "text/plain": [
       "2"
      ]
     },
     "execution_count": 2,
     "metadata": {},
     "output_type": "execute_result"
    }
   ],
   "source": [
    "def find_highest_power_2(num):\n",
    "    n=0\n",
    "    while 2**n <= num:\n",
    "        n += 1\n",
    "    return n-1 \n",
    "find_highest_power_2(4)"
   ]
  },
  {
   "cell_type": "markdown",
   "metadata": {
    "collapsed": true
   },
   "source": [
    "# Number climber\n",
    "For every positive integer N, there exists a unique sequence starting with 1 and ending with N and such that every number in the sequence is either the double of the preceeding number or the double plus 1.\n",
    "\n",
    "For example, given N = 13, the sequence is [1, 3, 6, 13], because . . . :"
   ]
  },
  {
   "cell_type": "code",
   "execution_count": 58,
   "metadata": {
    "collapsed": false
   },
   "outputs": [
    {
     "data": {
      "text/plain": [
       "[1, 2, 5, 10]"
      ]
     },
     "execution_count": 58,
     "metadata": {},
     "output_type": "execute_result"
    }
   ],
   "source": [
    "def climb(n):\n",
    "    climb_list = [n]\n",
    "    while n > 1:\n",
    "        if n%2 == 0:\n",
    "            n = (n/2)\n",
    "            climb_list.append(n)\n",
    "        else:\n",
    "            n = ((n-1)/2)\n",
    "            climb_list.append(n)\n",
    "    return list(reversed(climb_list))\n",
    "\n",
    "climb(10)"
   ]
  },
  {
   "cell_type": "code",
   "execution_count": 57,
   "metadata": {
    "collapsed": false
   },
   "outputs": [
    {
     "data": {
      "text/plain": [
       "[1, 2, 5, 10]"
      ]
     },
     "execution_count": 57,
     "metadata": {},
     "output_type": "execute_result"
    }
   ],
   "source": [
    "def climb(n):\n",
    "    climb_list = []\n",
    "    while n:\n",
    "        climb_list.append(n)\n",
    "        n /=2\n",
    "    return climb_list[::-1]\n",
    "\n",
    "climb(10)"
   ]
  },
  {
   "cell_type": "markdown",
   "metadata": {},
   "source": [
    "# Invalid Input - Error Handling #1\n",
    "Error Handling is very important in coding and seems to be overlooked or not implemented properly.\n",
    "Task\n",
    "\n",
    "Your task is to implement a function which takes a string as input and return an object containing the properties vowels and consonants. The vowels property must contain the total count of vowels {a,e,i,o,u}, and the total count of consonants {a,..,z} - {a,e,i,o,u}. Handle invalid input and don't forget to return valid ones.\n",
    "Input\n",
    "\n",
    "The input is any random string. You must then discern what are vowels and what are consonants and sum for each category their total occurrences in an object. However you could also receive inputs that are not strings. If this happens then you must return an object with a vowels and consonants total of 0 because the input was NOT a string. Refer to the Example section for a more visual representation of which inputs you could receive and the outputs expected. :)"
   ]
  },
  {
   "cell_type": "code",
   "execution_count": 144,
   "metadata": {
    "collapsed": false
   },
   "outputs": [
    {
     "name": "stdout",
     "output_type": "stream",
     "text": [
      "<type 'int'>\n"
     ]
    },
    {
     "data": {
      "text/plain": [
       "'vowels:2,consonants:3'"
      ]
     },
     "execution_count": 144,
     "metadata": {},
     "output_type": "execute_result"
    }
   ],
   "source": [
    "def get_count(words):\n",
    "    vowel = 0\n",
    "    consonant = 0\n",
    "    for char in words.lower():\n",
    "        if char in 'aeiou':\n",
    "            vowel += 1\n",
    "        elif char.isalpha() :\n",
    "            consonant += 1\n",
    "        else:\n",
    "            pass\n",
    "    print type(vowel)\n",
    "    return \"vowels:%r,consonants:%r\"%(vowel,consonant)\n",
    "get_count('Hello')"
   ]
  },
  {
   "cell_type": "code",
   "execution_count": 166,
   "metadata": {
    "collapsed": false
   },
   "outputs": [
    {
     "name": "stdout",
     "output_type": "stream",
     "text": [
      "<type 'int'>\n"
     ]
    },
    {
     "data": {
      "text/plain": [
       "{'consonants': 3, 'vowels': 2}"
      ]
     },
     "execution_count": 166,
     "metadata": {},
     "output_type": "execute_result"
    }
   ],
   "source": [
    "def get_count(words):\n",
    "    vowel = 0\n",
    "    consonant = 0\n",
    "    for char in words.lower():\n",
    "        if char in 'aeiou':\n",
    "            vowel += 1\n",
    "        elif char.isalpha() :\n",
    "            consonant += 1\n",
    "        else:\n",
    "            pass\n",
    "    print type(vowel)\n",
    "    return {\"vowels\":vowel,\"consonants\":consonant}\n",
    "get_count('Hello')"
   ]
  },
  {
   "cell_type": "code",
   "execution_count": 163,
   "metadata": {
    "collapsed": false
   },
   "outputs": [
    {
     "data": {
      "text/plain": [
       "{'consonants': 3, 'vowels': 2}"
      ]
     },
     "execution_count": 163,
     "metadata": {},
     "output_type": "execute_result"
    }
   ],
   "source": [
    "from collections import OrderedDict\n",
    "def get_count(words):\n",
    "    inputdict = {}\n",
    "    vowel = 0 \n",
    "    consonant = 0\n",
    "    for char in words.lower():\n",
    "        if char in 'aeiou':\n",
    "            vowel += 1\n",
    "        elif char.isalpha() :\n",
    "            consonant += 1\n",
    "        else:\n",
    "            pass  \n",
    "    inputdict['vowels'] = vowel\n",
    "    inputdict['consonants'] = consonant\n",
    "    return inputdict\n",
    "get_count('hello')"
   ]
  },
  {
   "cell_type": "code",
   "execution_count": 167,
   "metadata": {
    "collapsed": false
   },
   "outputs": [
    {
     "data": {
      "text/plain": [
       "{'consonants': 3, 'vowels': 2}"
      ]
     },
     "execution_count": 167,
     "metadata": {},
     "output_type": "execute_result"
    }
   ],
   "source": [
    "def get_count(words=None):\n",
    "    ret = {\"vowels\": 0, \"consonants\": 0}\n",
    "    if words and isinstance(words, str):\n",
    "        for char in words.lower():\n",
    "            if char in 'aeiouy':\n",
    "                ret[\"vowels\"] += 1\n",
    "            elif char.isalpha():\n",
    "                ret[\"consonants\"] += 1\n",
    "    return ret\n",
    "get_count('hello')"
   ]
  },
  {
   "cell_type": "markdown",
   "metadata": {},
   "source": [
    "# Sum of odd numbers\n",
    "Given the triangle of consecutive odd numbers:\n",
    "Calculate the row sums of this triangle from the row index (starting at index "
   ]
  },
  {
   "cell_type": "code",
   "execution_count": 245,
   "metadata": {
    "collapsed": false
   },
   "outputs": [
    {
     "data": {
      "text/plain": [
       "68921"
      ]
     },
     "execution_count": 245,
     "metadata": {},
     "output_type": "execute_result"
    }
   ],
   "source": [
    "def line(n):\n",
    "    triangle = []\n",
    "    for i in range(1, (n**2)+(n+1), 2):\n",
    "        triangle.append(i)\n",
    "        i+=1\n",
    "    return (sum(triangle[-n:]))\n",
    "line(41)"
   ]
  },
  {
   "cell_type": "code",
   "execution_count": 244,
   "metadata": {
    "collapsed": false
   },
   "outputs": [
    {
     "data": {
      "text/plain": [
       "68921"
      ]
     },
     "execution_count": 244,
     "metadata": {},
     "output_type": "execute_result"
    }
   ],
   "source": [
    "def line(n):\n",
    "    return n**3\n",
    "line(41)"
   ]
  },
  {
   "cell_type": "markdown",
   "metadata": {},
   "source": [
    "# Duplicate Encoder\n",
    "The goal of this exercise is to convert a string to a new string where each character in the new string is '(' if that character appears only once in the original string, or ')' if that character appears more than once in the original string. Ignore capitalization when determining if a character is a duplicate.\n",
    "\n",
    "Examples:\n",
    "\n",
    "\"din\" => \"(((\"\n",
    "\n",
    "\"recede\" => \"()()()\"\n",
    "\n",
    "\"Success\" => \")())())\"\n",
    "\n",
    "\"(( @\" => \"))((\"\n"
   ]
  },
  {
   "cell_type": "code",
   "execution_count": 690,
   "metadata": {
    "collapsed": false
   },
   "outputs": [
    {
     "data": {
      "text/plain": [
       "'()()()'"
      ]
     },
     "execution_count": 690,
     "metadata": {},
     "output_type": "execute_result"
    }
   ],
   "source": [
    "def duplicate_encode(word):\n",
    "    new_word = ''\n",
    "    word = word.lower()\n",
    "    for i in range(len(word)):\n",
    "        if word[i] in word[i+1:] or word[i] in word[:(i+1)-1]:\n",
    "            new_word += ')'\n",
    "            #print new_word\n",
    "        elif word[i] not in word[i+1:] or word[i] not in word[:(i+1)-1]:\n",
    "            new_word += '('\n",
    "            #print new_word\n",
    "        i += 1\n",
    "    return new_word\n",
    "                     \n",
    "duplicate_encode('recede')"
   ]
  },
  {
   "cell_type": "code",
   "execution_count": 678,
   "metadata": {
    "collapsed": false
   },
   "outputs": [
    {
     "data": {
      "text/plain": [
       "'())))()'"
      ]
     },
     "execution_count": 678,
     "metadata": {},
     "output_type": "execute_result"
    }
   ],
   "source": [
    "def duplicate_encode(word):\n",
    "    return \"\".join([\"(\" if word.lower().count(c) == 1 else \")\" for c in word.lower()])\n",
    "duplicate_encode('recede')"
   ]
  },
  {
   "cell_type": "code",
   "execution_count": 692,
   "metadata": {
    "collapsed": false
   },
   "outputs": [
    {
     "name": "stdout",
     "output_type": "stream",
     "text": [
      "1 r\n",
      "1 e\n",
      "1 c\n",
      "2 e\n",
      "1 d\n",
      "3 e\n"
     ]
    },
    {
     "data": {
      "text/plain": [
       "'()()()'"
      ]
     },
     "execution_count": 692,
     "metadata": {},
     "output_type": "execute_result"
    }
   ],
   "source": [
    "import collections\n",
    "def duplicate_encode(word):\n",
    "    new_string = ''\n",
    "    word = word.lower()\n",
    "    d = collections.defaultdict(int)\n",
    "    for c in word:\n",
    "        d[c] += 1\n",
    "        print d[c], c\n",
    "    for c in word:\n",
    "        new_string += ('(' if d[c] == 1 else ')')\n",
    "    return new_string\n",
    "duplicate_encode('recede')    "
   ]
  },
  {
   "cell_type": "code",
   "execution_count": null,
   "metadata": {
    "collapsed": true
   },
   "outputs": [],
   "source": []
  }
 ],
 "metadata": {
  "kernelspec": {
   "display_name": "Python 2",
   "language": "python",
   "name": "python2"
  },
  "language_info": {
   "codemirror_mode": {
    "name": "ipython",
    "version": 2
   },
   "file_extension": ".py",
   "mimetype": "text/x-python",
   "name": "python",
   "nbconvert_exporter": "python",
   "pygments_lexer": "ipython2",
   "version": "2.7.12"
  }
 },
 "nbformat": 4,
 "nbformat_minor": 0
}
